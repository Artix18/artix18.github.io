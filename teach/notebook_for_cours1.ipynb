{
 "cells": [
  {
   "cell_type": "markdown",
   "metadata": {},
   "source": [
    "Codons ensemble votre première boucle for.\n",
    "\n",
    "Une boucle est un bloc d'instructions autant de fois qu'on le précise.\n",
    "Par exemple : "
   ]
  },
  {
   "cell_type": "code",
   "execution_count": null,
   "metadata": {
    "collapsed": false
   },
   "outputs": [],
   "source": [
    "for i in range(10):\n",
    "    print(\"Le python c'est trop cool !\")"
   ]
  },
  {
   "cell_type": "markdown",
   "metadata": {},
   "source": [
    "La boucle commence par l'instruction \"for\", \n",
    "\n",
    "puis une déclaration de variable \"i\", \n",
    "\n",
    "puis le mot-clef \"in\",\n",
    "\n",
    "et enfin range(10) qui précise qu'on veut exécuter cette boucle 10 fois.\n",
    "### En réalité, i va prendre toutes les valeurs de 0 à 9.\n",
    "\n",
    "La ligne se finit par \":\" pour préciser le début du bloc qui va être répété 10 fois. Ensuite, il faudra mettre une tabulation (plusieurs espaces) devant chaque ligne du bloc qui sera répété 10 fois."
   ]
  },
  {
   "cell_type": "code",
   "execution_count": null,
   "metadata": {
    "collapsed": false
   },
   "outputs": [],
   "source": [
    "for i in range(10):\n",
    "    print(i)"
   ]
  },
  {
   "cell_type": "markdown",
   "metadata": {},
   "source": [
    "La variable i pourrait avoir un autre nom."
   ]
  },
  {
   "cell_type": "code",
   "execution_count": null,
   "metadata": {
    "collapsed": false
   },
   "outputs": [],
   "source": [
    "for compteur in range(10):\n",
    "    print(compteur)"
   ]
  },
  {
   "cell_type": "markdown",
   "metadata": {},
   "source": [
    "Varions un peu les possibilités. Comme dit plus haut, on peut mettre plusieurs lignes dans ce bloc, mais elles doivent toutes être précédées d'une tabulation. On peut par exemple déclarer une variable dans la boucle."
   ]
  },
  {
   "cell_type": "code",
   "execution_count": null,
   "metadata": {
    "collapsed": false
   },
   "outputs": [],
   "source": [
    "for i in range(5):\n",
    "    cube = i*i*i\n",
    "    print(cube)"
   ]
  },
  {
   "cell_type": "markdown",
   "metadata": {},
   "source": [
    "On peut aussi exécuter des instructions avant et après la boucle. Exécutons le code suivant : "
   ]
  },
  {
   "cell_type": "code",
   "execution_count": null,
   "metadata": {
    "collapsed": false
   },
   "outputs": [],
   "source": [
    "maVariable = 5\n",
    "monCalculComplique = maVariable*2\n",
    "for i in range(10):\n",
    "    print(\"J'adore l'informatique\")\n",
    "    monCalculComplique = monCalculComplique + 1\n",
    "print(monCalculComplique)"
   ]
  },
  {
   "cell_type": "markdown",
   "metadata": {},
   "source": [
    "Comme vous pouvez le voir sur l'exemple ci-dessus, on commence par déclarer une variable qui vaut 5, puis une autre qui vaut 10. Ensuite on lui ajoute 1 dix fois, puis on l'affiche. On obtient donc 20."
   ]
  },
  {
   "cell_type": "markdown",
   "metadata": {},
   "source": [
    "Attention ! La variable d'une boucle, et toutes les variables déclarées au sein du bloc d'une boucle, existent toujours une fois sortis de la boucle. Ils valent la dernière valeur qu'ils ont pris. Ainsi :"
   ]
  },
  {
   "cell_type": "code",
   "execution_count": null,
   "metadata": {
    "collapsed": false
   },
   "outputs": [],
   "source": [
    "for i in range(5):\n",
    "    truc = i\n",
    "    print(i)\n",
    "print(truc)"
   ]
  },
  {
   "cell_type": "markdown",
   "metadata": {},
   "source": [
    "Est équivalent à : "
   ]
  },
  {
   "cell_type": "code",
   "execution_count": null,
   "metadata": {
    "collapsed": false
   },
   "outputs": [],
   "source": [
    "truc = 0\n",
    "for i in range(5):\n",
    "    truc = i\n",
    "    print(i)\n",
    "print(truc)"
   ]
  },
  {
   "cell_type": "markdown",
   "metadata": {},
   "source": [
    "### Pour aller plus loin : "
   ]
  },
  {
   "cell_type": "markdown",
   "metadata": {},
   "source": [
    "Il est possible d'imbriquer plusieurs boucles."
   ]
  },
  {
   "cell_type": "code",
   "execution_count": 14,
   "metadata": {
    "collapsed": false
   },
   "outputs": [
    {
     "name": "stdout",
     "output_type": "stream",
     "text": [
      "0\n",
      "1\n",
      "1\n",
      "2\n"
     ]
    }
   ],
   "source": [
    "for i in range(2):\n",
    "    for j in range(2):\n",
    "        print(i + j)"
   ]
  },
  {
   "cell_type": "markdown",
   "metadata": {},
   "source": [
    "Et si on admet qu'on peut aggrandir une chaine avec l'opérateur '+' : "
   ]
  },
  {
   "cell_type": "code",
   "execution_count": 16,
   "metadata": {
    "collapsed": false
   },
   "outputs": [
    {
     "name": "stdout",
     "output_type": "stream",
     "text": [
      "*\n",
      "**\n",
      "***\n",
      "****\n",
      "*****\n"
     ]
    }
   ],
   "source": [
    "for i in range(5):\n",
    "    maChaine = \"\"\n",
    "    for j in range(i+1):\n",
    "        maChaine = maChaine + \"*\"\n",
    "    print(maChaine)"
   ]
  },
  {
   "cell_type": "markdown",
   "metadata": {},
   "source": [
    "# Exercices"
   ]
  },
  {
   "cell_type": "markdown",
   "metadata": {},
   "source": [
    "TODO"
   ]
  }
 ],
 "metadata": {
  "kernelspec": {
   "display_name": "Python 3",
   "language": "python",
   "name": "python3"
  },
  "language_info": {
   "codemirror_mode": {
    "name": "ipython",
    "version": 3
   },
   "file_extension": ".py",
   "mimetype": "text/x-python",
   "name": "python",
   "nbconvert_exporter": "python",
   "pygments_lexer": "ipython3",
   "version": "3.6.0"
  }
 },
 "nbformat": 4,
 "nbformat_minor": 2
}
